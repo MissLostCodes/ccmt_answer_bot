{
 "cells": [
  {
   "cell_type": "code",
   "execution_count": null,
   "id": "081ea37e-8bf9-4c50-bec5-23e857f0e033",
   "metadata": {},
   "outputs": [],
   "source": []
  },
  {
   "cell_type": "code",
   "execution_count": 49,
   "id": "0a9f23e6-9ee0-4c18-a2fd-767bb2b057e6",
   "metadata": {},
   "outputs": [],
   "source": [
    "import os\n",
    "import streamlit as st\n",
    "from dotenv import load_dotenv\n",
    "from langchain_google_genai import ChatGoogleGenerativeAI\n",
    "from langchain_core.prompts import ChatPromptTemplate  \n",
    "from langchain_core.output_parsers import StrOutputParser\n",
    "from langchain_core.runnables import RunnablePassthrough \n",
    "from langchain_community.document_loaders import PyPDFLoader\n",
    "from langchain_google_genai import GoogleGenerativeAIEmbeddings\n",
    "from langchain.vectorstores import Chroma\n",
    "from langchain.text_splitter import RecursiveCharacterTextSplitter\n",
    "from langchain_core.output_parsers import StrOutputParser\n",
    "import streamlit_analytics\n",
    "\n",
    "\n"
   ]
  },
  {
   "cell_type": "code",
   "execution_count": 16,
   "id": "e0dfa75a-2593-49fa-88fd-c67a78aabc10",
   "metadata": {},
   "outputs": [],
   "source": [
    "# Load environment variables\n",
    "load_dotenv()\n",
    "GOOGLE_API_KEY = os.getenv(\"GOOGLE_API_KEY\")"
   ]
  },
  {
   "cell_type": "markdown",
   "id": "cc97e643-d902-46d4-b0df-9458750d3838",
   "metadata": {},
   "source": [
    "## load pdfs "
   ]
  },
  {
   "cell_type": "code",
   "execution_count": 54,
   "id": "f74fb5b5-4242-4f50-9afb-e570ad91b53e",
   "metadata": {},
   "outputs": [],
   "source": [
    "# Load all PDFs\n",
    "brochure_docs = PyPDFLoader(\"ccmt_info.pdf\").load()\n",
    "flowchart_docs = PyPDFLoader(\"ccmt_flowcharts_2.pdf\").load()\n",
    "fee_docs = PyPDFLoader(\"fee_table.pdf\").load()\n",
    "\n",
    "# Add metadata (tags)\n",
    "for doc in fee_docs:\n",
    "    doc.metadata[\"source\"] = \"fee_clean\"   \n",
    "\n",
    "for doc in brochure_docs:\n",
    "    doc.metadata[\"source\"] = \"brochure\"\n",
    "\n",
    "for doc in flowchart_docs:\n",
    "    doc.metadata[\"source\"] = \"flowchart\""
   ]
  },
  {
   "cell_type": "markdown",
   "id": "a93b7063-1573-4e5a-b4e1-45b0b353f484",
   "metadata": {},
   "source": [
    "### chunking"
   ]
  },
  {
   "cell_type": "code",
   "execution_count": 55,
   "id": "59b04300-c795-4ba0-a9e4-fa466c872cc6",
   "metadata": {},
   "outputs": [],
   "source": [
    "text_splitter = RecursiveCharacterTextSplitter(chunk_size=1000, chunk_overlap=100)\n",
    "chunks = text_splitter.split_documents(brochure_docs + flowchart_docs + fee_docs)\n"
   ]
  },
  {
   "cell_type": "code",
   "execution_count": 56,
   "id": "4406aa32-7a17-4695-8300-8c0b86bd44f0",
   "metadata": {},
   "outputs": [
    {
     "name": "stdout",
     "output_type": "stream",
     "text": [
      "Type of variable: <class 'list'>\n",
      "\n",
      "Type of each object inside the list: <class 'langchain_core.documents.base.Document'>\n",
      "\n",
      "Total number of documents inside list: 159\n",
      "\n",
      "* Content of first chunk: page_content='20  \n",
      "Table 5: Permission of Willingness Change \n",
      " \n",
      "From To \n",
      "Float Slide \n",
      "Float Freeze \n",
      "Float Surrender and Participate in Next \n",
      "Round \n",
      "Slide Freeze \n",
      " \n",
      "i.e. the willingness can be changed from Float to Slide, or Float to Freeze, or Float to \n",
      "“Surrender and Participate in Next Round”, or Slide to Freeze. The vice-versa changes, i.e., \n",
      "from Freeze to Slide, or “Surrender and Participate in Next Round ” to Float or Freeze to \n",
      "Float, or Slide to Float are not permitted. \n",
      "This activity is optional, hence, if a candidate does not change the `WILLINGNESS', her/his \n",
      "earlier specified WILLINGNESS will be considered in the subsequent round(s) of \n",
      "allotment. \n",
      " \n",
      "5.2.1.6.2 Surrender & Participate in Next Round \n",
      "After successful online document verification, if the candidate wishes to surrender the \n",
      "currently allotted seat at this stage but wishes to participate in subsequent regular \n",
      "rounds, (s)he may select this Willingness, which means the candidate REJECTS the offered' metadata={'producer': 'Microsoft® Word 2013', 'creator': 'Microsoft® Word 2013', 'creationdate': '2025-05-13T18:01:36+05:30', 'author': 'CCMT', 'moddate': '2025-05-13T18:01:36+05:30', 'source': 'brochure', 'total_pages': 49, 'page': 20, 'page_label': '21'}\n",
      "\n",
      "* Content of second chunk: page_content='45  \n",
      "automatically stand CANCELLED without any further reference, and I will also be \n",
      "liable for all the legal consequences for submitting false information. \n",
      "I I. I will take print copy of my complete application including filled -choices and \n",
      "check the details carefully. I also understand that, in no case any grievance OR \n",
      "complaint shall be entertained at any later stage. \n",
      " \n",
      "(Name and signature of the candidate)' metadata={'producer': 'Microsoft® Word 2013', 'creator': 'Microsoft® Word 2013', 'creationdate': '2025-05-13T18:01:36+05:30', 'author': 'CCMT', 'moddate': '2025-05-13T18:01:36+05:30', 'source': 'brochure', 'total_pages': 49, 'page': 45, 'page_label': '46'}\n",
      "\n",
      "* Content of second chunk: page_content='From the Desk of Chairman CCMT-2025 \n",
      " \n",
      " \n",
      "Prof. Bidyadhar Subudhi  \n",
      "                                     Director, NIT Warangal & Chairman, CCMT-2025 \n",
      " \n",
      "Dear prospective students, \n",
      " \n",
      "Congratulations on your wonderful achievement in the Graduate Aptitude Test in Engineering \n",
      "(GATE). With your remarkable performance in the GATE, you are eligible for CCMT -2025 \n",
      "(Centralized Counselling for M.Tech./ M.Arch./ M.Plan. Admissions – 2025). The CCMT is a \n",
      "centralized counselling procedure based on the valid GATE score  for admissions to Master of \n",
      "Engineering / Technology / Architecture / Planning Programmes to NITs and other \n",
      "Participating Institutes. The CCMT-2025 is being facilitated by the National Institute of \n",
      "Technology (NIT) Warangal. \n",
      " \n",
      "It is of utmost importance for us to ensure that all the sanctioned seats in the participating \n",
      "institutions are filled efficiently in a transparent manner. We shall also take every care to see' metadata={'producer': 'Microsoft® Word 2013', 'creator': 'Microsoft® Word 2013', 'creationdate': '2025-05-13T18:01:36+05:30', 'author': 'CCMT', 'moddate': '2025-05-13T18:01:36+05:30', 'source': 'brochure', 'total_pages': 49, 'page': 1, 'page_label': '2'}\n"
     ]
    }
   ],
   "source": [
    "print(\"Type of variable:\", type(chunks))\n",
    "print()\n",
    "print(\"Type of each object inside the list:\", type(chunks[0]))\n",
    "print()\n",
    "print(\"Total number of documents inside list:\", len(chunks))\n",
    "print()\n",
    "print(\"* Content of first chunk:\", chunks[60])\n",
    "print()\n",
    "print(\"* Content of second chunk:\", chunks[125])\n",
    "print()\n",
    "print(\"* Content of second chunk:\", chunks[1])"
   ]
  },
  {
   "cell_type": "code",
   "execution_count": 57,
   "id": "4059fb75-c167-4c10-b120-d7a8b967205d",
   "metadata": {},
   "outputs": [],
   "source": [
    "import re\n",
    "\n",
    "def clean_text(text):\n",
    "    # Remove invalid surrogate characters\n",
    "    text = text.encode('utf-8', 'ignore').decode('utf-8', 'ignore')\n",
    "    # Optional: Remove emojis or other symbols\n",
    "    text = re.sub(r'[^\\x00-\\x7F]+', ' ', text)\n",
    "    return text\n",
    "\n",
    "# Apply to chunks\n",
    "for doc in chunks:\n",
    "    doc.page_content = clean_text(doc.page_content)\n"
   ]
  },
  {
   "cell_type": "code",
   "execution_count": 58,
   "id": "c086ec16-bede-4ebf-8bb9-84ac5beacd44",
   "metadata": {},
   "outputs": [],
   "source": [
    "embedding = GoogleGenerativeAIEmbeddings(model=\"models/embedding-001\" , google_api_key=GOOGLE_API_KEY)\n",
    "\n",
    "vectordb = Chroma.from_documents(\n",
    "    documents=chunks,\n",
    "    embedding=embedding,\n",
    "    persist_directory=\"./chroma_db\"\n",
    ")\n",
    "vectordb.persist()\n"
   ]
  },
  {
   "cell_type": "code",
   "execution_count": 59,
   "id": "7c3abaeb-4d3a-48d1-9edf-bfd123f5ecde",
   "metadata": {},
   "outputs": [],
   "source": [
    " retriever = vectordb.as_retriever(search_kwargs={\"k\": 3})"
   ]
  },
  {
   "cell_type": "code",
   "execution_count": null,
   "id": "8d6a382a-9bb7-4cfe-9219-eb899a945417",
   "metadata": {},
   "outputs": [],
   "source": []
  },
  {
   "cell_type": "markdown",
   "id": "ce8537ba-1ab5-4b18-9251-c5bf02c4111c",
   "metadata": {},
   "source": [
    "## rag chain "
   ]
  },
  {
   "cell_type": "code",
   "execution_count": 60,
   "id": "63339949-465e-448e-8c89-0c65d653e6c6",
   "metadata": {},
   "outputs": [],
   "source": [
    "PROMPT_TEMPLATE = \"\"\"\n",
    "Answer the question based only on the following context:\n",
    "{context}\n",
    "Answer the question based on the above context: {question}.\n",
    "Provide a detailed answer.\n",
    "Don’t justify your answers.\n",
    "Do not say \"according to the context\" or \"mentioned in the context\" or similar.\n",
    "\"\"\"\n",
    "\n",
    "prompt_template = ChatPromptTemplate.from_template(PROMPT_TEMPLATE)"
   ]
  },
  {
   "cell_type": "code",
   "execution_count": 61,
   "id": "e4dd0ae1-b9fc-4377-845b-dfa74c85d559",
   "metadata": {},
   "outputs": [],
   "source": [
    "chat_model=ChatGoogleGenerativeAI(api_key=GOOGLE_API_KEY , model='gemini-2.0-flash-exp')\n",
    "parser = StrOutputParser()"
   ]
  },
  {
   "cell_type": "markdown",
   "id": "067f6787-008a-4a42-b781-dd08c02ab945",
   "metadata": {},
   "source": [
    "### retriever: A vector retriever (e.g., FAISS or Chroma) — returns the most relevant k documents based on similarity to the question.\n",
    "### format_docs: A function to convert those document objects into a single formatted string (so it can go into the prompt)."
   ]
  },
  {
   "cell_type": "code",
   "execution_count": 62,
   "id": "3e0d449a-100d-406b-9fa8-f0792b4a5607",
   "metadata": {},
   "outputs": [],
   "source": [
    "def format_docs(docs):\n",
    "    return \"\\n\\n\".join(doc.page_content for doc in docs)"
   ]
  },
  {
   "cell_type": "code",
   "execution_count": 63,
   "id": "62597a72-adda-4d29-a1f1-16b67a3c13f4",
   "metadata": {},
   "outputs": [],
   "source": [
    "rag_chain = {\"context\": retriever | format_docs , \"question\": RunnablePassthrough()} | prompt_template | chat_model | parser"
   ]
  },
  {
   "cell_type": "markdown",
   "id": "2d39e2de-47c5-43a3-9d25-7c3514643ae9",
   "metadata": {},
   "source": [
    "## Streamlit UI\n"
   ]
  },
  {
   "cell_type": "code",
   "execution_count": 64,
   "id": "76715e23-806d-46a8-a1c6-efb17c08d726",
   "metadata": {},
   "outputs": [],
   "source": [
    "\n",
    "# Set page config at the very beginning\n",
    "st.set_page_config(page_title=\"CCMT Chatbot\", layout=\"wide\")\n",
    "\n",
    "# ----------- Unique Visit Logging Logic -------------\n",
    "COUNT_FILE = \"user_count.txt\"\n",
    "\n",
    "# Create the file if it doesn't exist\n",
    "if not os.path.exists(COUNT_FILE):\n",
    "    with open(COUNT_FILE, \"w\") as f:\n",
    "        f.write(\"\")\n",
    "\n",
    "# Only add one star per session\n",
    "if \"counted\" not in st.session_state:\n",
    "    with open(COUNT_FILE, \"a\") as f:\n",
    "        f.write(\"*\")\n",
    "    st.session_state.counted = True\n",
    "\n",
    "# Read total user count\n",
    "with open(COUNT_FILE, \"r\") as f:\n",
    "    stars = f.read()\n",
    "    total_users = stars.count(\"*\")\n",
    "\n",
    "# ----------- Main Chatbot UI ------------------------\n",
    "st.title(\"🎓 CCMT Counselling Chatbot\")\n",
    "st.markdown(\"Ask anything about CCMT rules, rounds, fees, etc...\")\n",
    "\n",
    "# Background styling (optional)\n",
    "st.markdown(\n",
    "    \"\"\"\n",
    "    <style>\n",
    "    .stApp {\n",
    "        background-image: linear-gradient(135deg, #1f1c2c, #928dab);\n",
    "        color: white;\n",
    "    }\n",
    "    </style>\n",
    "    \"\"\",\n",
    "    unsafe_allow_html=True\n",
    ")\n",
    "\n",
    "# Show unique user visits in the sidebar\n",
    "st.sidebar.markdown(f\"🌟 **Unique Visits:** {total_users}\")\n",
    "\n",
    "# User Query Input\n",
    "query = st.text_input(\"💬 Ask your question:\")\n",
    "\n",
    "# Submit button\n",
    "if st.button(\"Get Answer\"):\n",
    "    if query.strip():\n",
    "        with st.spinner(\"Thinking...\"):\n",
    "            result = rag_chain.invoke(query)\n",
    "            st.markdown(\"**Answer:**\")\n",
    "            st.write(result)\n",
    "    else:\n",
    "        st.warning(\"Please enter a question first.\")\n"
   ]
  },
  {
   "cell_type": "code",
   "execution_count": null,
   "id": "8a0a6a51-2eea-4eb4-b5e8-49034533b705",
   "metadata": {},
   "outputs": [],
   "source": []
  },
  {
   "cell_type": "code",
   "execution_count": null,
   "id": "b528daff-84ba-4216-9a39-b7769f1cbdf6",
   "metadata": {},
   "outputs": [],
   "source": []
  },
  {
   "cell_type": "code",
   "execution_count": null,
   "id": "f72d0976-3690-4c18-97d3-681e6ff159b0",
   "metadata": {},
   "outputs": [],
   "source": []
  }
 ],
 "metadata": {
  "kernelspec": {
   "display_name": "Python 3 (ipykernel)",
   "language": "python",
   "name": "python3"
  },
  "language_info": {
   "codemirror_mode": {
    "name": "ipython",
    "version": 3
   },
   "file_extension": ".py",
   "mimetype": "text/x-python",
   "name": "python",
   "nbconvert_exporter": "python",
   "pygments_lexer": "ipython3",
   "version": "3.12.7"
  }
 },
 "nbformat": 4,
 "nbformat_minor": 5
}
